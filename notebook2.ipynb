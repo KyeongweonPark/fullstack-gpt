{
 "cells": [
  {
   "cell_type": "code",
   "execution_count": 14,
   "metadata": {},
   "outputs": [],
   "source": [
    "import subprocess\n",
    "from pydub import AudioSegment\n",
    "import math\n",
    "import glob\n",
    "def extract_audio_from_video(video_path, audio_path):\n",
    "    command = [\n",
    "        \"ffmpeg\",\n",
    "        \"-i\",\n",
    "        video_path,\n",
    "        \"-vn\",\n",
    "        audio_path,\n",
    "    ]\n",
    "    subprocess.run(command)\n",
    "\n",
    "def cut_audio_in_chunks(audio_path, chunk_size, chunks_folder):\n",
    "    track = AudioSegment.from_mp3(audio_path)\n",
    "    chunk_len = chunk_size * 60 * 1000\n",
    "    chunks = math.ceil(len(track) / chunk_len)\n",
    "\n",
    "    for i in range(chunks):\n",
    "        start_time = i * chunk_len\n",
    "        end_time = (i+1) * chunk_len\n",
    "        chunk = track[start_time:end_time]\n",
    "        chunk.export(f\"{chunks_folder}/chunk_{i}.mp3\", format=\"mp3\")\n",
    "\n",
    "    \n"
   ]
  },
  {
   "cell_type": "code",
   "execution_count": 10,
   "metadata": {},
   "outputs": [],
   "source": [
    "\n",
    "# cut_audio_in_chunks(\"./files/video_sample.mp3\",10, \"./files/chunks/\")"
   ]
  },
  {
   "cell_type": "code",
   "execution_count": 12,
   "metadata": {},
   "outputs": [
    {
     "data": {
      "text/plain": [
       "<OpenAIObject at 0x10aad86b0> JSON: {\n",
       "  \"text\": \"Let's play it because it's so it's such a poignant moment that Judge Florence Pan asked of this very court She had a litany of things including selling military secrets selling pardons and ending with this huge hypothetical. Listen to this Could a president order seal team six to assassinate a political rival That's an official act in order to seal team six. He would have to be and would speedily be you know Impeached and convicted before the criminal There would be no criminal prosecution. No criminal liability for that Chief Justice's opinion were against Madison and and our Constitution and the plain language of the impeachment judgment clause all clearly Presuppose that what the founders were concerned about was not I asked you a yes nor yes or no question Could a president who ordered steel team six to assassinate a political rival who was not impeached? Would he be subject to criminal prosecution? If he were impeached and convicted first answer your answer is My answer is qualified. Yes, I Mean we all at that point we all in the room kind of sat back for a second because first of all take a concession Of any kind it's major But when you hear that trying to go through the hypotheticals trying to follow that thread of common sense and logic What struck you about that moment where he essentially has a qualified? Yes that a president could actually order an assassination and if he's not impeached or convicted Immune, I think he's really making the argument for Jack Smith This is exactly what Jack Smith has been worrying about that Are we a country of presidents or a country of Kings? And I think what Trump's lawyer effectively argues that we are a country of Kings that the president can act as he wants as he Chooses whether it be violence, you know, we had violence of January 6th But he's saying the president can take it a lot further the president himself can direct that violence openly Using official government resources and that's fine I think what it does it establishes how dangerous this presidential immunity argument truly is and to your point Ellie You know, we could have had the kind of the original argument that spoke about the so-called outer perimeter which saying hey I was just doing my job and to protect me and to protect the institution I should be given some coverage the same way presidents get civil immunity What they've done is say let's go further that the president even when he effectively is not upholding Effectively executing the laws in that scenario. He's still covered when he's breaking the law He's still covered that no one gets to sit in judgment over a president and I think that danger was seen by the court today Well, and there were skepticism a lot of it from which we expected though from the judges But I think in a real way I mean judge Henderson who is the senior judge out of these three the Republican here was appointed by a Republican president said at one Point, I think it's paradoxical to say that his constitutional duty to take care that the laws be faithfully executed Allows him to violate criminal law but what judge pan also noted is that that is not the understanding that that senators have because when Trump was actually Impeached and then it went to the Senate a lot of them including senator Mitch McConnell said this is something for the courts to take Care of this is something that he should be handled in a criminal prosecution or that could be handled in that way Yeah, it's a great point There's obviously two very different talking points the problem with the argument that Trump's lawyers just staked out has to be an impeachment and A conviction before there could be a prosecution is it leads to absurd results that cannot be the way this works We all know impeachment is entirely different a judgment about whether to impeach could be political It could be based on any number of factors That is just a different ballgame altogether than a decision whether to prosecute and eventually convict somebody And the thing I keep coming back to is they had an easier way Trump's team had an easier way They briefed a better way They just made the traditional argument of what he's charged with doing here was within the scope within the outer perimeter of his job as President and if they stuck to that I felt I still think they probably would have had a losing argument But they wouldn't have had a preposterous argument and I think they would have had a stronger case to make well, first I mean just think about this what that would suggest as Long as I can hide my behavior Long enough to be in office and avoid impeachment. I can get away with anything I want all I have to do is not have Transparency or eyes into what I'm doing because the only way to have an impeachment is if one I know about your behavior, right? If the house is gonna bring the impeachment articles if then it will actually have the actual moment to connect an actual trial So all I got to do if I'm the president States is just bide my time that's part of that argument, but there was a moment here to when the council I mean the special counsel from DOJ Spoke about this issue But I want to go back for a second to the lawyer for Trump because in this soundbite here He talks about the idea that the notion for a criminal immunity not existing is a shocking holding they are standing tall than saying look there has got to be some level of immunity because They're talking about President Biden and other people listen to this To authorize the prosecution of a president for his official acts would open a Pandora's box From which this nation may never recover Could George W Bush be prosecuted for obstruction of an official proceeding for allegedly giving false information to Congress to? Induce the nation to go to war in Iraq under false pretenses Could President Obama be potentially charged with murder for allegedly authorizing drone strikes targeting US citizens located abroad That's the political question that Trump was raising and we played that clip earlier about the threat so to speak and what would happen next That's the heart of the matter. If you open this sort of Pandora's box politically Trump will suggest. Well, then everyone is fair game But the argument that James Pierce made and that is a rebuttal to that was if you can't if you do go by what the prosecution or what the defendants or the Trump's attorneys are saying that then it would open up presidents to being able to commit a whole host of criminal acts and to get Away with it Exactly both sides have this slippery slope argument that they're putting forward, but I think you know an important argument from from the Jack Smith side Speaking about history here is a whole lot of talk of what's happened in the past and the example of President Nixon, right? President Nixon engaged in his conduct and what did he do? He accepted a pardon, right? He talked about we have special we have the Iran-contra in Investigation right we have and Ronald Reagan. No one there thought that he could not be prosecuted So I think the slippery slope argument, I think there's something there on both sides But importantly that is the nature of all prosecutions We've both been prosecutors for a system to work effectively you have to have prosecutors that are acting with a sense of justice that are using discretion appropriately and that is true in every Scenario for everyday Americans and for former presidents so that faith in our system We have to have that for our system to make sense no matter who the defendant is So I don't think it's especially strong argument to say someone could abuse this we have courts that will review indictments We have standards of burdens of proof of reasonable doubt you have to do a trial So we have other fail-safes. That's not just a you know rogue prosecutor can go after a former president without any recourse So I do think Jackson inside had the better of the argument there when it comes to the slippery slopes There was this huge moment And I mean maybe some people might have lost it because when I hear the words ministerial or discretionary I was probably like just say what everyone's thinking official or unofficial acts whether a president can do it or they can't do it That's important because the crux of this matter is going to come down to Whether his actions around January 6 leading up to it were officially presidential actions They were talking about it in the form of ministerial versus discretionary And they talked about this thing called the take care clause which essentially says the president has the duty to ensure that the laws of this nation are executed and enforced, but this idea Ellie of whether what he's doing is official or Rogue in some way plays very big in this case and could end up back before a judge shutkin\"\n",
       "}"
      ]
     },
     "execution_count": 12,
     "metadata": {},
     "output_type": "execute_result"
    }
   ],
   "source": [
    "import openai\n",
    "\n",
    "transcript = openai.Audio.transcribe(\n",
    "    \"whisper-1\", \n",
    "    open(\"./files/chunks/chunk_0.mp3\", \"rb\"))\n",
    "\n",
    "transcript"
   ]
  },
  {
   "cell_type": "code",
   "execution_count": 16,
   "metadata": {},
   "outputs": [
    {
     "data": {
      "text/plain": [
       "['./files/chunks/chunk_0.mp3']"
      ]
     },
     "execution_count": 16,
     "metadata": {},
     "output_type": "execute_result"
    }
   ],
   "source": [
    "def transcribe_chunks(chunk_folder, destination):\n",
    "    files = glob.glob(f\"{chunk_folder}/*.mp3\")\n",
    "    final_transcript = \"\"\n",
    "    for file in files:\n",
    "        transcript = openai.Audio.transcribe(\n",
    "            \"whisper-1\",\n",
    "            open(file, \"rb\"),\n",
    "        )\n",
    "        final_transfript += transcript[\"text\"]\n",
    "    with open(destination, \"w\") as file:\n",
    "        file.write(final_transcript)\n",
    "    return final_transcript\n",
    "\n",
    "transcribe_chunks(\"./files/chunks\",\"...\")"
   ]
  },
  {
   "cell_type": "code",
   "execution_count": null,
   "metadata": {},
   "outputs": [],
   "source": []
  }
 ],
 "metadata": {
  "kernelspec": {
   "display_name": "env",
   "language": "python",
   "name": "python3"
  },
  "language_info": {
   "codemirror_mode": {
    "name": "ipython",
    "version": 3
   },
   "file_extension": ".py",
   "mimetype": "text/x-python",
   "name": "python",
   "nbconvert_exporter": "python",
   "pygments_lexer": "ipython3",
   "version": "3.11.7"
  }
 },
 "nbformat": 4,
 "nbformat_minor": 2
}
