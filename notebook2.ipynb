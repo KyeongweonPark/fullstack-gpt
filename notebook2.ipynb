{
 "cells": [
  {
   "cell_type": "code",
   "execution_count": 2,
   "metadata": {},
   "outputs": [],
   "source": [
    "import subprocess\n",
    "from pydub import AudioSegment\n",
    "\n",
    "# def extract_audio_from_video(video_path, audio_path):\n",
    "#     command = [\n",
    "#         \"ffmpeg\",\n",
    "#         \"-i\",\n",
    "#         video_path,\n",
    "#         \"-vn\",\n",
    "#         audio_path,\n",
    "#     ]\n",
    "#     subprocess.run(command)\n",
    "\n",
    "\n",
    "# extract_audio_from_video(\n",
    "#     \"./files/video_sample.mp4\",\n",
    "#     \"./files/video_sample.mp3\",\n",
    "# )"
   ]
  },
  {
   "cell_type": "code",
   "execution_count": 3,
   "metadata": {},
   "outputs": [
    {
     "data": {
      "text/plain": [
       "<_io.BufferedRandom name='./files/first_five.mp3'>"
      ]
     },
     "execution_count": 3,
     "metadata": {},
     "output_type": "execute_result"
    }
   ],
   "source": [
    "track = AudioSegment.from_mp3(\"./files/video_sample.mp3\")\n",
    "\n",
    "five_minutes = 5 * 60 * 1000\n",
    "\n",
    "\n",
    "first_five = track[:five_minutes]\n",
    "\n",
    "first_five.export(\"./files/first_five.mp3\")\n",
    "\n"
   ]
  },
  {
   "cell_type": "code",
   "execution_count": 6,
   "metadata": {},
   "outputs": [
    {
     "name": "stdout",
     "output_type": "stream",
     "text": [
      "start: 0 end: 600000\n"
     ]
    }
   ],
   "source": [
    "import math\n",
    "\n",
    "ten_minutes = 10 * 60 * 1000\n",
    "\n",
    "chunks = math.ceil(len(track)/ten_minutes)\n",
    "\n",
    "for i in range(chunks):\n",
    "    start_time = i * ten_minutes\n",
    "    end_time = (i+1) * ten_minutes\n",
    "    print(f\"start: {start_time} end: {end_time}\")\n",
    "\n",
    "    chunk = track[start_time:end_time]\n",
    "\n",
    "    chunk.export(f\"./files/chunks/chunk_{i}.mp3\", format=\"mp3\")\n",
    "\n"
   ]
  },
  {
   "cell_type": "code",
   "execution_count": null,
   "metadata": {},
   "outputs": [],
   "source": []
  }
 ],
 "metadata": {
  "kernelspec": {
   "display_name": "env",
   "language": "python",
   "name": "python3"
  },
  "language_info": {
   "codemirror_mode": {
    "name": "ipython",
    "version": 3
   },
   "file_extension": ".py",
   "mimetype": "text/x-python",
   "name": "python",
   "nbconvert_exporter": "python",
   "pygments_lexer": "ipython3",
   "version": "3.11.7"
  }
 },
 "nbformat": 4,
 "nbformat_minor": 2
}
