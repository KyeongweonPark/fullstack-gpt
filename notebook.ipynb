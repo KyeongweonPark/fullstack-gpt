{
 "cells": [
  {
   "cell_type": "code",
   "execution_count": 31,
   "metadata": {},
   "outputs": [],
   "source": [
    "content='```json\\n{ \"questions\": [\\n        {\\n            \"question\": \"What is a blind interview?\",\\n            \"answers\": [\\n                    {\\n                        \"answer\": \"An interview conducted in complete darkness\",\\n                        \"correct\": false\\n                    },\\n                    {\\n                        \"answer\": \"An interview where the interviewers are blind\",\\n                        \"correct\": true\\n                    },\\n                    {\\n                        \"answer\": \"An interview without any questions\",\\n                        \"correct\": false\\n                    },\\n                    {\\n                        \"answer\": \"An interview with no candidates\",\\n                        \"correct\": false\\n                    },\\n            ]\\n        },\\n                    {\\n            \"question\": \"Why do some people support blind interviews?\",\\n            \"answers\": [\\n                    {\\n                        \"answer\": \"Because they are conducted in secret\",\\n                        \"correct\": false\\n                    },\\n                    {\\n                        \"answer\": \"Because they save time by only focusing on relevant skills\",\\n                        \"correct\": true\\n                    },\\n                    {\\n                        \"answer\": \"Because they are more entertaining\",\\n                        \"correct\": false\\n                    },\\n                    {\\n                        \"answer\": \"Because they are easier to cheat on\",\\n                        \"correct\": false\\n                    },\\n            ]\\n        },\\n                    {\\n            \"question\": \"What kind of information do interviewers consider in blind interviews?\",\\n            \"answers\": [\\n                    {\\n                        \"answer\": \"Place of birth and family relations\",\\n                        \"correct\": false\\n                    },\\n                    {\\n                        \"answer\": \"Skills relevant to the job\",\\n                        \"correct\": true\\n                    },\\n                    {\\n                        \"answer\": \"Favorite color and food\",\\n                        \"correct\": false\\n                    },\\n                    {\\n                        \"answer\": \"Favorite TV shows and movies\",\\n                        \"correct\": false\\n                    },\\n            ]\\n        }\\n    ]\\n }\\n```'"
   ]
  },
  {
   "cell_type": "code",
   "execution_count": 40,
   "metadata": {},
   "outputs": [
    {
     "name": "stdout",
     "output_type": "stream",
     "text": [
      "\n",
      "{ \"questions\": \n",
      "        {\n",
      "            \"question\": \"What is a blind interview?\",\n",
      "            \"answers\": [\n",
      "                    {\n",
      "                        \"answer\": \"An interview conducted in complete darkness\",\n",
      "                        \"correct\": false\n",
      "                    },\n",
      "                    {\n",
      "                        \"answer\": \"An interview where the interviewers are blind\",\n",
      "                        \"correct\": true\n",
      "                    },\n",
      "                    {\n",
      "                        \"answer\": \"An interview without any questions\",\n",
      "                        \"correct\": false\n",
      "                    },\n",
      "                    {\n",
      "                        \"answer\": \"An interview with no candidates\",\n",
      "                        \"correct\": false\n",
      "                    },\n",
      "            ]\n",
      "        },\n",
      " }\n",
      "\n"
     ]
    },
    {
     "ename": "JSONDecodeError",
     "evalue": "Expecting value: line 1 column 746 (char 745)",
     "output_type": "error",
     "traceback": [
      "\u001b[0;31m---------------------------------------------------------------------------\u001b[0m",
      "\u001b[0;31mJSONDecodeError\u001b[0m                           Traceback (most recent call last)",
      "\u001b[1;32m/Users/semipia/Documents/fullstack-gpt/notebook.ipynb Cell 2\u001b[0m line \u001b[0;36m3\n\u001b[1;32m     <a href='vscode-notebook-cell:/Users/semipia/Documents/fullstack-gpt/notebook.ipynb#W4sZmlsZQ%3D%3D?line=32'>33</a>\u001b[0m content \u001b[39m=\u001b[39m content\u001b[39m.\u001b[39mreplace(\u001b[39m'\u001b[39m\u001b[39m```json\u001b[39m\u001b[39m\\n\u001b[39;00m\u001b[39m'\u001b[39m, \u001b[39m'\u001b[39m\u001b[39m'\u001b[39m)\u001b[39m.\u001b[39mreplace(\u001b[39m'\u001b[39m\u001b[39m```\u001b[39m\u001b[39m'\u001b[39m, \u001b[39m'\u001b[39m\u001b[39m'\u001b[39m)\u001b[39m.\u001b[39mreplace(\u001b[39m'\u001b[39m\u001b[39m\\n\u001b[39;00m\u001b[39m'\u001b[39m,\u001b[39m'\u001b[39m\u001b[39m'\u001b[39m)\n\u001b[1;32m     <a href='vscode-notebook-cell:/Users/semipia/Documents/fullstack-gpt/notebook.ipynb#W4sZmlsZQ%3D%3D?line=34'>35</a>\u001b[0m \u001b[39m# Load the string as JSON\u001b[39;00m\n\u001b[0;32m---> <a href='vscode-notebook-cell:/Users/semipia/Documents/fullstack-gpt/notebook.ipynb#W4sZmlsZQ%3D%3D?line=35'>36</a>\u001b[0m data \u001b[39m=\u001b[39m json\u001b[39m.\u001b[39;49mloads(content)\n\u001b[1;32m     <a href='vscode-notebook-cell:/Users/semipia/Documents/fullstack-gpt/notebook.ipynb#W4sZmlsZQ%3D%3D?line=37'>38</a>\u001b[0m \u001b[39m# Write the JSON data to a file\u001b[39;00m\n\u001b[1;32m     <a href='vscode-notebook-cell:/Users/semipia/Documents/fullstack-gpt/notebook.ipynb#W4sZmlsZQ%3D%3D?line=38'>39</a>\u001b[0m \u001b[39mwith\u001b[39;00m \u001b[39mopen\u001b[39m(\u001b[39m'\u001b[39m\u001b[39moutput.json\u001b[39m\u001b[39m'\u001b[39m, \u001b[39m'\u001b[39m\u001b[39mw\u001b[39m\u001b[39m'\u001b[39m) \u001b[39mas\u001b[39;00m json_file:\n",
      "File \u001b[0;32m/opt/homebrew/Cellar/python@3.11/3.11.6_1/Frameworks/Python.framework/Versions/3.11/lib/python3.11/json/__init__.py:346\u001b[0m, in \u001b[0;36mloads\u001b[0;34m(s, cls, object_hook, parse_float, parse_int, parse_constant, object_pairs_hook, **kw)\u001b[0m\n\u001b[1;32m    341\u001b[0m     s \u001b[39m=\u001b[39m s\u001b[39m.\u001b[39mdecode(detect_encoding(s), \u001b[39m'\u001b[39m\u001b[39msurrogatepass\u001b[39m\u001b[39m'\u001b[39m)\n\u001b[1;32m    343\u001b[0m \u001b[39mif\u001b[39;00m (\u001b[39mcls\u001b[39m \u001b[39mis\u001b[39;00m \u001b[39mNone\u001b[39;00m \u001b[39mand\u001b[39;00m object_hook \u001b[39mis\u001b[39;00m \u001b[39mNone\u001b[39;00m \u001b[39mand\u001b[39;00m\n\u001b[1;32m    344\u001b[0m         parse_int \u001b[39mis\u001b[39;00m \u001b[39mNone\u001b[39;00m \u001b[39mand\u001b[39;00m parse_float \u001b[39mis\u001b[39;00m \u001b[39mNone\u001b[39;00m \u001b[39mand\u001b[39;00m\n\u001b[1;32m    345\u001b[0m         parse_constant \u001b[39mis\u001b[39;00m \u001b[39mNone\u001b[39;00m \u001b[39mand\u001b[39;00m object_pairs_hook \u001b[39mis\u001b[39;00m \u001b[39mNone\u001b[39;00m \u001b[39mand\u001b[39;00m \u001b[39mnot\u001b[39;00m kw):\n\u001b[0;32m--> 346\u001b[0m     \u001b[39mreturn\u001b[39;00m _default_decoder\u001b[39m.\u001b[39;49mdecode(s)\n\u001b[1;32m    347\u001b[0m \u001b[39mif\u001b[39;00m \u001b[39mcls\u001b[39m \u001b[39mis\u001b[39;00m \u001b[39mNone\u001b[39;00m:\n\u001b[1;32m    348\u001b[0m     \u001b[39mcls\u001b[39m \u001b[39m=\u001b[39m JSONDecoder\n",
      "File \u001b[0;32m/opt/homebrew/Cellar/python@3.11/3.11.6_1/Frameworks/Python.framework/Versions/3.11/lib/python3.11/json/decoder.py:337\u001b[0m, in \u001b[0;36mJSONDecoder.decode\u001b[0;34m(self, s, _w)\u001b[0m\n\u001b[1;32m    332\u001b[0m \u001b[39mdef\u001b[39;00m \u001b[39mdecode\u001b[39m(\u001b[39mself\u001b[39m, s, _w\u001b[39m=\u001b[39mWHITESPACE\u001b[39m.\u001b[39mmatch):\n\u001b[1;32m    333\u001b[0m \u001b[39m    \u001b[39m\u001b[39m\"\"\"Return the Python representation of ``s`` (a ``str`` instance\u001b[39;00m\n\u001b[1;32m    334\u001b[0m \u001b[39m    containing a JSON document).\u001b[39;00m\n\u001b[1;32m    335\u001b[0m \n\u001b[1;32m    336\u001b[0m \u001b[39m    \"\"\"\u001b[39;00m\n\u001b[0;32m--> 337\u001b[0m     obj, end \u001b[39m=\u001b[39m \u001b[39mself\u001b[39;49m\u001b[39m.\u001b[39;49mraw_decode(s, idx\u001b[39m=\u001b[39;49m_w(s, \u001b[39m0\u001b[39;49m)\u001b[39m.\u001b[39;49mend())\n\u001b[1;32m    338\u001b[0m     end \u001b[39m=\u001b[39m _w(s, end)\u001b[39m.\u001b[39mend()\n\u001b[1;32m    339\u001b[0m     \u001b[39mif\u001b[39;00m end \u001b[39m!=\u001b[39m \u001b[39mlen\u001b[39m(s):\n",
      "File \u001b[0;32m/opt/homebrew/Cellar/python@3.11/3.11.6_1/Frameworks/Python.framework/Versions/3.11/lib/python3.11/json/decoder.py:355\u001b[0m, in \u001b[0;36mJSONDecoder.raw_decode\u001b[0;34m(self, s, idx)\u001b[0m\n\u001b[1;32m    353\u001b[0m     obj, end \u001b[39m=\u001b[39m \u001b[39mself\u001b[39m\u001b[39m.\u001b[39mscan_once(s, idx)\n\u001b[1;32m    354\u001b[0m \u001b[39mexcept\u001b[39;00m \u001b[39mStopIteration\u001b[39;00m \u001b[39mas\u001b[39;00m err:\n\u001b[0;32m--> 355\u001b[0m     \u001b[39mraise\u001b[39;00m JSONDecodeError(\u001b[39m\"\u001b[39m\u001b[39mExpecting value\u001b[39m\u001b[39m\"\u001b[39m, s, err\u001b[39m.\u001b[39mvalue) \u001b[39mfrom\u001b[39;00m \u001b[39mNone\u001b[39;00m\n\u001b[1;32m    356\u001b[0m \u001b[39mreturn\u001b[39;00m obj, end\n",
      "\u001b[0;31mJSONDecodeError\u001b[0m: Expecting value: line 1 column 746 (char 745)"
     ]
    }
   ],
   "source": [
    "import json\n",
    "\n",
    "content = '''\n",
    "{ \"questions\": \n",
    "        {\n",
    "            \"aasdfasd\"\n",
    "        },\n",
    " }\n",
    "'''\n",
    "\n",
    "# Print the content before attempting to load it as JSON\n",
    "print(content)\n",
    "\n",
    "# Remove the triple backticks and 'json' part from the content string\n",
    "content = content.replace('```json\\n', '').replace('```', '').replace('\\n','')\n",
    "\n",
    "# Load the string as JSON\n",
    "data = json.loads(content)\n",
    "\n",
    "# Write the JSON data to a file\n",
    "with open('output.json', 'w') as json_file:\n",
    "    json.dump(data, json_file, indent=4)\n",
    "\n",
    "print(\"JSON data has been written to 'output.json'\")\n"
   ]
  },
  {
   "cell_type": "code",
   "execution_count": null,
   "metadata": {},
   "outputs": [],
   "source": []
  }
 ],
 "metadata": {
  "kernelspec": {
   "display_name": "env",
   "language": "python",
   "name": "python3"
  },
  "language_info": {
   "codemirror_mode": {
    "name": "ipython",
    "version": 3
   },
   "file_extension": ".py",
   "mimetype": "text/x-python",
   "name": "python",
   "nbconvert_exporter": "python",
   "pygments_lexer": "ipython3",
   "version": "3.11.6"
  },
  "orig_nbformat": 4
 },
 "nbformat": 4,
 "nbformat_minor": 2
}
