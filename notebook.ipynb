{
 "cells": [
  {
   "cell_type": "code",
   "execution_count": 4,
   "metadata": {},
   "outputs": [
    {
     "name": "stdout",
     "output_type": "stream",
     "text": [
      "call an api....\n"
     ]
    }
   ],
   "source": [
    "from langchain.chat_models import ChatOpenAI\n",
    "from langchain.prompts import PromptTemplate\n",
    "\n",
    "def get_weather(lon, lat):\n",
    "    print(\"call an api....\")\n",
    "\n",
    "function = {\n",
    "    \"name\":\"get_weather\",\n",
    "    \"description\":\"function that takes longitude and latitude to find the weather of a place\",\n",
    "    \"parameters\" :{\n",
    "        \"type\":\"object\",\n",
    "        \"properties\":{\n",
    "            \"lon\":{\n",
    "                \"type\":\"string\",\n",
    "                \"description\":\"The longitude coordinate\"\n",
    "            },\n",
    "            \"lat\":{\n",
    "                \"type\":\"string\", \n",
    "                \"description\":\"The latitude coordinate\"\n",
    "            }\n",
    "        }\n",
    "    },\n",
    "    \"required\":[\"lon\",\"lat\"]\n",
    "}\n",
    "\n",
    "llm = ChatOpenAI(\n",
    "    temperature=0.1,\n",
    ").bind(\n",
    "    function_call=\"auto\",\n",
    "    functions=[function]\n",
    ")\n",
    "\n",
    "prompt = PromptTemplate.from_template(\"What is the weather in {city}\")\n",
    "\n",
    "chain = prompt | llm\n",
    "\n",
    "response = chain.invoke({\n",
    "    \"city\": \"rome\"\n",
    "})\n",
    "\n",
    "\n",
    "response = response.additional_kwargs[\"function_call\"][\"arguments\"]\n",
    "\n",
    "import json\n",
    "\n",
    "r = json.loads(response)\n",
    "\n",
    "get_weather(r['lon'], r['lat'])\n"
   ]
  }
 ],
 "metadata": {
  "kernelspec": {
   "display_name": "env",
   "language": "python",
   "name": "python3"
  },
  "language_info": {
   "codemirror_mode": {
    "name": "ipython",
    "version": 3
   },
   "file_extension": ".py",
   "mimetype": "text/x-python",
   "name": "python",
   "nbconvert_exporter": "python",
   "pygments_lexer": "ipython3",
   "version": "3.11.6"
  },
  "orig_nbformat": 4
 },
 "nbformat": 4,
 "nbformat_minor": 2
}
